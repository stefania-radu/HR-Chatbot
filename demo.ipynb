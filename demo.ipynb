{
 "cells": [
  {
   "cell_type": "code",
   "execution_count": null,
   "metadata": {},
   "outputs": [],
   "source": [
    "%pip install langchain_openai"
   ]
  },
  {
   "cell_type": "code",
   "execution_count": 6,
   "metadata": {},
   "outputs": [],
   "source": [
    "from config.Config import Config\n",
    "from src.DataLoader import DataLoader\n",
    "from src.VectorDatabase import VectorDatabase\n",
    "from src.AgentChat import AgentChat\n",
    "from langchain.callbacks.tracers import LangChainTracer"
   ]
  },
  {
   "cell_type": "markdown",
   "metadata": {},
   "source": [
    "# Initialize the project based on the configuration file"
   ]
  },
  {
   "cell_type": "code",
   "execution_count": 7,
   "metadata": {},
   "outputs": [
    {
     "name": "stdout",
     "output_type": "stream",
     "text": [
      "Project *chatbot* initialized from configuration: \n",
      " Config(project_name=chatbot, \n",
      "             session_id=abc123, \n",
      "             data_directory=data, \n",
      "             ignored_files=[], \n",
      "             persist_directory=chroma_db, \n",
      "             model_first_instruction=You are a helpful robot who engages in conversations with the users and answers questions., \n",
      " \n",
      "\n"
     ]
    }
   ],
   "source": [
    "config = Config()\n",
    "print(f\"Project *{config.project_name}* initialized from configuration: \\n {str(config)} \\n\")\n",
    "\n",
    "# keep track of API calls to make less\n",
    "tracer = LangChainTracer(project_name=config.project_name)"
   ]
  },
  {
   "cell_type": "markdown",
   "metadata": {},
   "source": [
    "# Load and preprocess the documents\n",
    "\n",
    "The supported files so far:\n",
    "- .txt files\n",
    "- .pdf files\n",
    "\n",
    "The example documents are loaded and split into chunks of 300 tokens. I generated a pdf HR contract and txt company policy using ChatGPT."
   ]
  },
  {
   "cell_type": "code",
   "execution_count": 8,
   "metadata": {},
   "outputs": [
    {
     "name": "stdout",
     "output_type": "stream",
     "text": [
      "Processing documents from data\n",
      "Loading documents from data\n"
     ]
    },
    {
     "name": "stderr",
     "output_type": "stream",
     "text": [
      "Loading new documents: 100%|██████████████████████| 4/4 [00:01<00:00,  3.66it/s]"
     ]
    },
    {
     "name": "stdout",
     "output_type": "stream",
     "text": [
      "[Document(page_content='\\nTech Innovations Inc. Company Policy\\n\\n1. Introduction\\nThis document outlines the company policies of Tech Innovations Inc. (\"the Company\"), located at 123 Tech Avenue, Innovation City, Techland. Under the guidance of our HR Director, Jane Smith, these policies have been developed to ensure a productive, secure, and inclusive work environment for all employees.\\n\\n2. Equal Employment Opportunity\\nTech Innovations Inc. is committed to providing an equal employment opportunity for all employees and applicants without regard to race, color, religion, sex, national origin, age, disability, or genetics. We strive to create a diverse and inclusive environment where everyone can succeed.\\n\\n3. Code of Conduct\\nAll employees are expected to conduct themselves professionally, respecting their colleagues, the company, and our clients. This includes adhering to ethical guidelines, maintaining confidentiality, and avoiding conflicts of interest.\\n\\n4. Harassment and Discrimination\\nTech Innovations Inc. has a zero-tolerance policy for harassment or discrimination of any kind. Any reports of such behavior will be investigated promptly and may result in disciplinary action, up to and including termination of employment.\\n\\n5. Health and Safety\\nThe health and safety of our employees are of paramount importance. All employees are expected to follow safety guidelines and report any hazards or injuries immediately to their supervisor or the HR department.\\n\\n6. Performance Reviews\\nPerformance reviews are conducted annually to assess employee progress, set goals, and discuss potential for growth and development within the company.\\n\\n7. Confidentiality and Data Protection\\nEmployees must not disclose any confidential information obtained during their employment, both during and after their tenure at Tech Innovations Inc. We are committed to protecting personal and business-related data in accordance with applicable laws and regulations.\\n\\n8. Disciplinary Actions\\nViolations of company policies may result in disciplinary action, which can include written warnings, suspension, or termination of employment, depending on the severity of the infraction.\\n\\n9. Amendments to the Policy\\nTech Innovations Inc. reserves the right to amend these policies at any time. Employees will be notified of any changes through official communications.', metadata={'source': 'data\\\\policy.txt'}), Document(page_content='Employment Contract - Accountant Position\\n1. Introduction\\nEmployee Name: John Doe\\nPosition: Accountant\\nStart Date: March 1, 2024\\nProbation Period: 6 Months\\n2. Employment Terms\\nStatus: Full-time\\nWork Hours: 40 hours per week, Monday to Friday, 9 AM to 5 PM\\nOffice Location: 123 Tech Avenue, Innovation City, Techland\\nRemote Work Policy: Eligible for up to 2 days of remote work per week, upon completion of\\nprobation period.\\n3. Salary and Compensation\\nBase Salary: $75,000 annually, payable in monthly installments\\nBonus: Eligible for an annual performance-based bonus of up to 10% of base salary\\nStock Options: Eligible after one year of service, details to be provided upon eligibility.\\n4. Benefits\\nHealth Insurance: Comprehensive health, dental, and vision plan, effective after 30 days of\\nemployment.\\nRetirement Plan: 401(k) plan with company matching up to 5% of salary.\\nOther Benefits: Gym membership reimbursement up to $500 annually, childcare assistance\\nup to $1000 annually.\\nPage 1', metadata={'source': 'data\\\\Contract.pdf', 'page': 0}), Document(page_content=\"Employment Contract - Accountant Position\\n5. Holiday and Leave\\nAnnual Leave: 20 working days plus 5 personal days.\\nPublic Holidays: All federal holidays observed.\\nSick Leave: 10 working days.\\nMaternity/Paternity Leave: 12 weeks paid leave, as per federal law.\\n6. Confidentiality Agreement\\nThe employee agrees to maintain the confidentiality of all proprietary information of Tech\\nInnovations Inc. and its clients.\\n7. Data Protection\\nCompliance with the Global Data Protection Regulation (GDPR) and local laws.\\n8. Termination\\nNotice Period: 4 weeks by either party.\\nGrounds for Immediate Termination: Gross misconduct, breach of confidentiality, or failure\\nto comply with company policies.\\nSeverance: Equivalent to two months' salary, provided the termination is not for gross\\nmisconduct.\\n9. Dispute Resolution\\nAny disputes arising from or related to the employment contract will be resolved through\\nmediation, followed by arbitration if necessary.\\nPage 2\", metadata={'source': 'data\\\\Contract.pdf', 'page': 1}), Document(page_content='Employment Contract - Accountant Position\\n10. Miscellaneous\\nIntellectual Property: All work produced by the employee during employment is the property\\nof Tech Innovations Inc.\\nNon-compete Clause: Employee agrees not to work for a competitor within the tech industry\\nfor 1 year post-termination within a 100-mile radius of any Tech Innovations Inc. office.\\n11. Employer Information\\nEmployer: Tech Innovations Inc.\\nAddress: 123 Tech Avenue, Innovation City, Techland\\nRepresentative: Jane Smith, HR Director\\nSignatures:\\n_____________________________  _____________________________\\nJane Smith, HR Director         John Doe, Employee\\nDate: __________________         Date: __________________\\nPage 3', metadata={'source': 'data\\\\Contract.pdf', 'page': 2})]\n",
      "Done loading 4 documents from data\n",
      "Split documents into 15 chunks of text (max. 500 tokens each).\n"
     ]
    },
    {
     "name": "stderr",
     "output_type": "stream",
     "text": [
      "\n"
     ]
    },
    {
     "data": {
      "text/plain": [
       "{'7': Document(page_content='Tech Innovations Inc. Company Policy\\n\\n1. Introduction\\nThis document outlines the company policies of Tech Innovations Inc. (\"the Company\"), located at 123 Tech Avenue, Innovation City, Techland. Under the guidance of our HR Director, Jane Smith, these policies have been developed to ensure a productive, secure, and inclusive work environment for all employees.', metadata={'source': 'data\\\\policy.txt'}),\n",
       " '4': Document(page_content='2. Equal Employment Opportunity\\nTech Innovations Inc. is committed to providing an equal employment opportunity for all employees and applicants without regard to race, color, religion, sex, national origin, age, disability, or genetics. We strive to create a diverse and inclusive environment where everyone can succeed.', metadata={'source': 'data\\\\policy.txt'}),\n",
       " '2': Document(page_content='3. Code of Conduct\\nAll employees are expected to conduct themselves professionally, respecting their colleagues, the company, and our clients. This includes adhering to ethical guidelines, maintaining confidentiality, and avoiding conflicts of interest.', metadata={'source': 'data\\\\policy.txt'}),\n",
       " '10': Document(page_content='4. Harassment and Discrimination\\nTech Innovations Inc. has a zero-tolerance policy for harassment or discrimination of any kind. Any reports of such behavior will be investigated promptly and may result in disciplinary action, up to and including termination of employment.', metadata={'source': 'data\\\\policy.txt'}),\n",
       " '14': Document(page_content='5. Health and Safety\\nThe health and safety of our employees are of paramount importance. All employees are expected to follow safety guidelines and report any hazards or injuries immediately to their supervisor or the HR department.\\n\\n6. Performance Reviews\\nPerformance reviews are conducted annually to assess employee progress, set goals, and discuss potential for growth and development within the company.', metadata={'source': 'data\\\\policy.txt'}),\n",
       " '3': Document(page_content='7. Confidentiality and Data Protection\\nEmployees must not disclose any confidential information obtained during their employment, both during and after their tenure at Tech Innovations Inc. We are committed to protecting personal and business-related data in accordance with applicable laws and regulations.', metadata={'source': 'data\\\\policy.txt'}),\n",
       " '8': Document(page_content='8. Disciplinary Actions\\nViolations of company policies may result in disciplinary action, which can include written warnings, suspension, or termination of employment, depending on the severity of the infraction.\\n\\n9. Amendments to the Policy\\nTech Innovations Inc. reserves the right to amend these policies at any time. Employees will be notified of any changes through official communications.', metadata={'source': 'data\\\\policy.txt'}),\n",
       " '12': Document(page_content='Employment Contract - Accountant Position\\n1. Introduction\\nEmployee Name: John Doe\\nPosition: Accountant\\nStart Date: March 1, 2024\\nProbation Period: 6 Months\\n2. Employment Terms\\nStatus: Full-time\\nWork Hours: 40 hours per week, Monday to Friday, 9 AM to 5 PM\\nOffice Location: 123 Tech Avenue, Innovation City, Techland\\nRemote Work Policy: Eligible for up to 2 days of remote work per week, upon completion of\\nprobation period.\\n3. Salary and Compensation', metadata={'source': 'data\\\\Contract.pdf', 'page': 0}),\n",
       " '13': Document(page_content='Base Salary: $75,000 annually, payable in monthly installments\\nBonus: Eligible for an annual performance-based bonus of up to 10% of base salary\\nStock Options: Eligible after one year of service, details to be provided upon eligibility.\\n4. Benefits\\nHealth Insurance: Comprehensive health, dental, and vision plan, effective after 30 days of\\nemployment.\\nRetirement Plan: 401(k) plan with company matching up to 5% of salary.', metadata={'source': 'data\\\\Contract.pdf', 'page': 0}),\n",
       " '1': Document(page_content='Other Benefits: Gym membership reimbursement up to $500 annually, childcare assistance\\nup to $1000 annually.\\nPage 1', metadata={'source': 'data\\\\Contract.pdf', 'page': 0}),\n",
       " '5': Document(page_content='Employment Contract - Accountant Position\\n5. Holiday and Leave\\nAnnual Leave: 20 working days plus 5 personal days.\\nPublic Holidays: All federal holidays observed.\\nSick Leave: 10 working days.\\nMaternity/Paternity Leave: 12 weeks paid leave, as per federal law.\\n6. Confidentiality Agreement\\nThe employee agrees to maintain the confidentiality of all proprietary information of Tech\\nInnovations Inc. and its clients.\\n7. Data Protection', metadata={'source': 'data\\\\Contract.pdf', 'page': 1}),\n",
       " '6': Document(page_content=\"Compliance with the Global Data Protection Regulation (GDPR) and local laws.\\n8. Termination\\nNotice Period: 4 weeks by either party.\\nGrounds for Immediate Termination: Gross misconduct, breach of confidentiality, or failure\\nto comply with company policies.\\nSeverance: Equivalent to two months' salary, provided the termination is not for gross\\nmisconduct.\\n9. Dispute Resolution\\nAny disputes arising from or related to the employment contract will be resolved through\", metadata={'source': 'data\\\\Contract.pdf', 'page': 1}),\n",
       " '11': Document(page_content='mediation, followed by arbitration if necessary.\\nPage 2', metadata={'source': 'data\\\\Contract.pdf', 'page': 1}),\n",
       " '9': Document(page_content='Employment Contract - Accountant Position\\n10. Miscellaneous\\nIntellectual Property: All work produced by the employee during employment is the property\\nof Tech Innovations Inc.\\nNon-compete Clause: Employee agrees not to work for a competitor within the tech industry\\nfor 1 year post-termination within a 100-mile radius of any Tech Innovations Inc. office.\\n11. Employer Information\\nEmployer: Tech Innovations Inc.\\nAddress: 123 Tech Avenue, Innovation City, Techland', metadata={'source': 'data\\\\Contract.pdf', 'page': 2}),\n",
       " '0': Document(page_content='Representative: Jane Smith, HR Director\\nSignatures:\\n_____________________________  _____________________________\\nJane Smith, HR Director         John Doe, Employee\\nDate: __________________         Date: __________________\\nPage 3', metadata={'source': 'data\\\\Contract.pdf', 'page': 2})}"
      ]
     },
     "execution_count": 8,
     "metadata": {},
     "output_type": "execute_result"
    }
   ],
   "source": [
    "dataloader = DataLoader(config=config)\n",
    "docs_by_ids = dataloader.process_documents()\n",
    "\n",
    "docs_by_ids"
   ]
  },
  {
   "cell_type": "code",
   "execution_count": 9,
   "metadata": {},
   "outputs": [
    {
     "name": "stdout",
     "output_type": "stream",
     "text": [
      "Page content of doc with ID=6: Compliance with the Global Data Protection Regulation (GDPR) and local laws.\n",
      "8. Termination\n",
      "Notice Period: 4 weeks by either party.\n",
      "Grounds for Immediate Termination: Gross misconduct, breach of confidentiality, or failure\n",
      "to comply with company policies.\n",
      "Severance: Equivalent to two months' salary, provided the termination is not for gross\n",
      "misconduct.\n",
      "9. Dispute Resolution\n",
      "Any disputes arising from or related to the employment contract will be resolved through\n",
      "\n",
      "Source of text: data\\Contract.pdf\n",
      "\n",
      "Page of text: 2\n",
      "\n"
     ]
    }
   ],
   "source": [
    "ID = '6'\n",
    "\n",
    "print(f\"Page content of doc with ID={ID}: {docs_by_ids.get(ID).page_content}\\n\")\n",
    "print(f\"Source of text: {docs_by_ids.get('0').metadata['source']}\\n\")\n",
    "print(f\"Page of text: {docs_by_ids.get('0').metadata['page']}\\n\")"
   ]
  },
  {
   "cell_type": "markdown",
   "metadata": {},
   "source": [
    "# Create a vector database\n",
    "\n",
    "For this, we will use:\n",
    "- Chroma\n",
    "- OpenAI embeddings"
   ]
  },
  {
   "cell_type": "code",
   "execution_count": 10,
   "metadata": {},
   "outputs": [
    {
     "name": "stdout",
     "output_type": "stream",
     "text": [
      "Embeddings created using OpenAIEmbeddings.\n",
      "Vector database created in chroma_db.\n",
      "{'ids': ['0', '1', '10', '11', '12', '13', '14', '2', '3', '4', '5', '6', '7', '8', '9'], 'embeddings': None, 'metadatas': [{'page': 2, 'source': 'data\\\\Contract.pdf'}, {'page': 0, 'source': 'data\\\\Contract.pdf'}, {'page': 2, 'source': 'data\\\\policy.txt'}, {'page': 1, 'source': 'data\\\\Contract.pdf'}, {'page': 0, 'source': 'data\\\\Contract.pdf'}, {'page': 0, 'source': 'data\\\\Contract.pdf'}, {'page': 0, 'source': 'data\\\\policy.txt'}, {'page': 2, 'source': 'data\\\\policy.txt'}, {'page': 2, 'source': 'data\\\\policy.txt'}, {'page': 1, 'source': 'data\\\\policy.txt'}, {'page': 1, 'source': 'data\\\\Contract.pdf'}, {'page': 1, 'source': 'data\\\\Contract.pdf'}, {'page': 0, 'source': 'data\\\\policy.txt'}, {'page': 0, 'source': 'data\\\\policy.txt'}, {'page': 2, 'source': 'data\\\\Contract.pdf'}], 'documents': ['Representative: Jane Smith, HR Director\\nSignatures:\\n_____________________________  _____________________________\\nJane Smith, HR Director         John Doe, Employee\\nDate: __________________         Date: __________________\\nPage 3', 'Other Benefits: Gym membership reimbursement up to $500 annually, childcare assistance\\nup to $1000 annually.\\nPage 1', '4. Harassment and Discrimination\\nTech Innovations Inc. has a zero-tolerance policy for harassment or discrimination of any kind. Any reports of such behavior will be investigated promptly and may result in disciplinary action, up to and including termination of employment.', 'mediation, followed by arbitration if necessary.\\nPage 2', 'Employment Contract - Accountant Position\\n1. Introduction\\nEmployee Name: John Doe\\nPosition: Accountant\\nStart Date: March 1, 2024\\nProbation Period: 6 Months\\n2. Employment Terms\\nStatus: Full-time\\nWork Hours: 40 hours per week, Monday to Friday, 9 AM to 5 PM\\nOffice Location: 123 Tech Avenue, Innovation City, Techland\\nRemote Work Policy: Eligible for up to 2 days of remote work per week, upon completion of\\nprobation period.\\n3. Salary and Compensation', 'Base Salary: $75,000 annually, payable in monthly installments\\nBonus: Eligible for an annual performance-based bonus of up to 10% of base salary\\nStock Options: Eligible after one year of service, details to be provided upon eligibility.\\n4. Benefits\\nHealth Insurance: Comprehensive health, dental, and vision plan, effective after 30 days of\\nemployment.\\nRetirement Plan: 401(k) plan with company matching up to 5% of salary.', '5. Health and Safety\\nThe health and safety of our employees are of paramount importance. All employees are expected to follow safety guidelines and report any hazards or injuries immediately to their supervisor or the HR department.\\n\\n6. Performance Reviews\\nPerformance reviews are conducted annually to assess employee progress, set goals, and discuss potential for growth and development within the company.', '3. Code of Conduct\\nAll employees are expected to conduct themselves professionally, respecting their colleagues, the company, and our clients. This includes adhering to ethical guidelines, maintaining confidentiality, and avoiding conflicts of interest.', '7. Confidentiality and Data Protection\\nEmployees must not disclose any confidential information obtained during their employment, both during and after their tenure at Tech Innovations Inc. We are committed to protecting personal and business-related data in accordance with applicable laws and regulations.', '2. Equal Employment Opportunity\\nTech Innovations Inc. is committed to providing an equal employment opportunity for all employees and applicants without regard to race, color, religion, sex, national origin, age, disability, or genetics. We strive to create a diverse and inclusive environment where everyone can succeed.', 'Employment Contract - Accountant Position\\n5. Holiday and Leave\\nAnnual Leave: 20 working days plus 5 personal days.\\nPublic Holidays: All federal holidays observed.\\nSick Leave: 10 working days.\\nMaternity/Paternity Leave: 12 weeks paid leave, as per federal law.\\n6. Confidentiality Agreement\\nThe employee agrees to maintain the confidentiality of all proprietary information of Tech\\nInnovations Inc. and its clients.\\n7. Data Protection', \"Compliance with the Global Data Protection Regulation (GDPR) and local laws.\\n8. Termination\\nNotice Period: 4 weeks by either party.\\nGrounds for Immediate Termination: Gross misconduct, breach of confidentiality, or failure\\nto comply with company policies.\\nSeverance: Equivalent to two months' salary, provided the termination is not for gross\\nmisconduct.\\n9. Dispute Resolution\\nAny disputes arising from or related to the employment contract will be resolved through\", 'Tech Innovations Inc. Company Policy\\n\\n1. Introduction\\nThis document outlines the company policies of Tech Innovations Inc. (\"the Company\"), located at 123 Tech Avenue, Innovation City, Techland. Under the guidance of our HR Director, Jane Smith, these policies have been developed to ensure a productive, secure, and inclusive work environment for all employees.', '8. Disciplinary Actions\\nViolations of company policies may result in disciplinary action, which can include written warnings, suspension, or termination of employment, depending on the severity of the infraction.\\n\\n9. Amendments to the Policy\\nTech Innovations Inc. reserves the right to amend these policies at any time. Employees will be notified of any changes through official communications.', 'Employment Contract - Accountant Position\\n10. Miscellaneous\\nIntellectual Property: All work produced by the employee during employment is the property\\nof Tech Innovations Inc.\\nNon-compete Clause: Employee agrees not to work for a competitor within the tech industry\\nfor 1 year post-termination within a 100-mile radius of any Tech Innovations Inc. office.\\n11. Employer Information\\nEmployer: Tech Innovations Inc.\\nAddress: 123 Tech Avenue, Innovation City, Techland'], 'uris': None, 'data': None}\n"
     ]
    }
   ],
   "source": [
    "vdb = VectorDatabase(docs_by_ids, config=config)\n",
    "print(vdb.vector_database.get())"
   ]
  },
  {
   "cell_type": "markdown",
   "metadata": {},
   "source": [
    "# Retriever\n",
    "\n",
    "We can create a retriever based on the database and query the data.\n",
    "\n",
    "The output contains the most relevant k chunks in terms of semantic similarity to the query."
   ]
  },
  {
   "cell_type": "code",
   "execution_count": 11,
   "metadata": {},
   "outputs": [
    {
     "name": "stdout",
     "output_type": "stream",
     "text": [
      "[Document(page_content='Other Benefits: Gym membership reimbursement up to $500 annually, childcare assistance\\nup to $1000 annually.\\nPage 1', metadata={'page': 0, 'source': 'data\\\\Contract.pdf'}), Document(page_content='Base Salary: $75,000 annually, payable in monthly installments\\nBonus: Eligible for an annual performance-based bonus of up to 10% of base salary\\nStock Options: Eligible after one year of service, details to be provided upon eligibility.\\n4. Benefits\\nHealth Insurance: Comprehensive health, dental, and vision plan, effective after 30 days of\\nemployment.\\nRetirement Plan: 401(k) plan with company matching up to 5% of salary.', metadata={'page': 0, 'source': 'data\\\\Contract.pdf'}), Document(page_content='5. Health and Safety\\nThe health and safety of our employees are of paramount importance. All employees are expected to follow safety guidelines and report any hazards or injuries immediately to their supervisor or the HR department.\\n\\n6. Performance Reviews\\nPerformance reviews are conducted annually to assess employee progress, set goals, and discuss potential for growth and development within the company.', metadata={'page': 0, 'source': 'data\\\\policy.txt'})]\n",
      "[Document(page_content='5. Health and Safety\\nThe health and safety of our employees are of paramount importance. All employees are expected to follow safety guidelines and report any hazards or injuries immediately to their supervisor or the HR department.\\n\\n6. Performance Reviews\\nPerformance reviews are conducted annually to assess employee progress, set goals, and discuss potential for growth and development within the company.', metadata={'page': 0, 'source': 'data\\\\policy.txt'}), Document(page_content='8. Disciplinary Actions\\nViolations of company policies may result in disciplinary action, which can include written warnings, suspension, or termination of employment, depending on the severity of the infraction.\\n\\n9. Amendments to the Policy\\nTech Innovations Inc. reserves the right to amend these policies at any time. Employees will be notified of any changes through official communications.', metadata={'page': 0, 'source': 'data\\\\policy.txt'}), Document(page_content='Base Salary: $75,000 annually, payable in monthly installments\\nBonus: Eligible for an annual performance-based bonus of up to 10% of base salary\\nStock Options: Eligible after one year of service, details to be provided upon eligibility.\\n4. Benefits\\nHealth Insurance: Comprehensive health, dental, and vision plan, effective after 30 days of\\nemployment.\\nRetirement Plan: 401(k) plan with company matching up to 5% of salary.', metadata={'page': 0, 'source': 'data\\\\Contract.pdf'})]\n"
     ]
    }
   ],
   "source": [
    "retriever = vdb.get_database_as_retriever(k=3)\n",
    "\n",
    "print(retriever.invoke(\"What are my benefits?\"))\n",
    "print(retriever.invoke(\"How are performance reviews conducted?\"))"
   ]
  },
  {
   "cell_type": "markdown",
   "metadata": {},
   "source": [
    "# Agent Chatbot\n",
    "\n",
    "Create an agent chatbot with memory based using the openAI model. An API key is needed for this.\n",
    "\n",
    "I will be using the gpt-3.5-turbo model and the retriver that was created earlier.\n",
    "\n",
    "The chatbot can reason based on the user's query and decide what action to take before it gives an answer. The available actions are:\n",
    "- retrieve information from database when the user asks a personal question or a HR-related question\n",
    "- search the internet using the tavily API for general questions\n",
    "- the model can also decide to answer based on its own knowledge or the chat history"
   ]
  },
  {
   "cell_type": "code",
   "execution_count": 12,
   "metadata": {},
   "outputs": [
    {
     "data": {
      "text/plain": [
       "[TavilySearchResults(),\n",
       " Tool(name='retrieve_contract_information', description='Search for information about the HR contract. Use this tool when the user asks about salary, policies, benefits, holiday entitlements, and other employment terms.', args_schema=<class 'langchain.tools.retriever.RetrieverInput'>, func=functools.partial(<function _get_relevant_documents at 0x000002E176471FC0>, retriever=VectorStoreRetriever(tags=['Chroma', 'OpenAIEmbeddings'], vectorstore=<langchain_community.vectorstores.chroma.Chroma object at 0x000002E1780F6230>, search_kwargs={'k': 3}), document_prompt=PromptTemplate(input_variables=['page_content'], template='{page_content}'), document_separator='\\n\\n'), coroutine=functools.partial(<function _aget_relevant_documents at 0x000002E1764720E0>, retriever=VectorStoreRetriever(tags=['Chroma', 'OpenAIEmbeddings'], vectorstore=<langchain_community.vectorstores.chroma.Chroma object at 0x000002E1780F6230>, search_kwargs={'k': 3}), document_prompt=PromptTemplate(input_variables=['page_content'], template='{page_content}'), document_separator='\\n\\n'))]"
      ]
     },
     "execution_count": 12,
     "metadata": {},
     "output_type": "execute_result"
    }
   ],
   "source": [
    "chatbot = AgentChat(retriever=retriever)\n",
    "\n",
    "# the tools available to the agent\n",
    "chatbot.tools"
   ]
  },
  {
   "cell_type": "markdown",
   "metadata": {},
   "source": [
    "# The prompt:\n",
    "\n",
    "The model gets information about its role and what tools to use in each context. We also try to tell it to reveal the source of its answers and tell it to not make up answers."
   ]
  },
  {
   "cell_type": "code",
   "execution_count": 13,
   "metadata": {},
   "outputs": [
    {
     "data": {
      "text/plain": [
       "[SystemMessagePromptTemplate(prompt=PromptTemplate(input_variables=[], template='You are a helpful assistant who answers questions from the user.\\n                    If the user asks questions about personal information, try to retrieve the answer from their contract or the chat history.\\n                    If the user asks general questions, use the search tool.\\n                    Tell the user the source of your answer.\\n                    If you cannot find the right answer, say you do not know.')),\n",
       " MessagesPlaceholder(variable_name='chat_history', optional=True),\n",
       " HumanMessagePromptTemplate(prompt=PromptTemplate(input_variables=['input'], template='{input}')),\n",
       " MessagesPlaceholder(variable_name='agent_scratchpad')]"
      ]
     },
     "execution_count": 13,
     "metadata": {},
     "output_type": "execute_result"
    }
   ],
   "source": [
    "# the prompt\n",
    "chatbot.prompt.messages"
   ]
  },
  {
   "cell_type": "markdown",
   "metadata": {},
   "source": [
    "# Start chatting!\n",
    "\n",
    "Since we are using an agent, we can also see the reasoning process behind an answer and just the final response.\n",
    "In this example, the agent answers based on its knowledge without using any tools."
   ]
  },
  {
   "cell_type": "code",
   "execution_count": 14,
   "metadata": {},
   "outputs": [
    {
     "name": "stdout",
     "output_type": "stream",
     "text": [
      "\n",
      "\n",
      "\u001b[1m> Entering new AgentExecutor chain...\u001b[0m\n",
      "\u001b[32;1m\u001b[1;3mHello! I can help you with a variety of tasks. Here are some things I can assist you with:\n",
      "1. Provide information from your contract regarding salary, policies, benefits, and more.\n",
      "2. Answer questions about general topics using a search tool.\n",
      "3. Assist with finding specific information or resources.\n",
      "4. Help with any queries or tasks you have in mind. Just let me know how I can assist you today!\u001b[0m\n",
      "\n",
      "\u001b[1m> Finished chain.\u001b[0m\n"
     ]
    },
    {
     "data": {
      "text/plain": [
       "'Hello! I can help you with a variety of tasks. Here are some things I can assist you with:\\n1. Provide information from your contract regarding salary, policies, benefits, and more.\\n2. Answer questions about general topics using a search tool.\\n3. Assist with finding specific information or resources.\\n4. Help with any queries or tasks you have in mind. Just let me know how I can assist you today!'"
      ]
     },
     "execution_count": 14,
     "metadata": {},
     "output_type": "execute_result"
    }
   ],
   "source": [
    "config_invoke = {\"configurable\": {\"session_id\": config.session_id}, \"callbacks\": [tracer]}\n",
    "\n",
    "chatbot.get_response(\"Hello! What can you do for me?\", config_invoke=config_invoke)['output']"
   ]
  },
  {
   "cell_type": "markdown",
   "metadata": {},
   "source": [
    "Here the model uses the retrieve tool and answers based on the contract."
   ]
  },
  {
   "cell_type": "code",
   "execution_count": 16,
   "metadata": {},
   "outputs": [
    {
     "name": "stdout",
     "output_type": "stream",
     "text": [
      "\n",
      "\n",
      "\u001b[1m> Entering new AgentExecutor chain...\u001b[0m\n",
      "\u001b[32;1m\u001b[1;3m\n",
      "Invoking: `retrieve_contract_information` with `{'query': 'benefits'}`\n",
      "\n",
      "\n",
      "\u001b[0m\u001b[33;1m\u001b[1;3mOther Benefits: Gym membership reimbursement up to $500 annually, childcare assistance\n",
      "up to $1000 annually.\n",
      "Page 1\n",
      "\n",
      "Base Salary: $75,000 annually, payable in monthly installments\n",
      "Bonus: Eligible for an annual performance-based bonus of up to 10% of base salary\n",
      "Stock Options: Eligible after one year of service, details to be provided upon eligibility.\n",
      "4. Benefits\n",
      "Health Insurance: Comprehensive health, dental, and vision plan, effective after 30 days of\n",
      "employment.\n",
      "Retirement Plan: 401(k) plan with company matching up to 5% of salary.\n",
      "\n",
      "5. Health and Safety\n",
      "The health and safety of our employees are of paramount importance. All employees are expected to follow safety guidelines and report any hazards or injuries immediately to their supervisor or the HR department.\n",
      "\n",
      "6. Performance Reviews\n",
      "Performance reviews are conducted annually to assess employee progress, set goals, and discuss potential for growth and development within the company.\u001b[0m\u001b[32;1m\u001b[1;3mYour benefits include:\n",
      "- Comprehensive health, dental, and vision insurance plan effective after 30 days of employment\n",
      "- 401(k) retirement plan with company matching up to 5% of salary\n",
      "- Gym membership reimbursement up to $500 annually\n",
      "- Childcare assistance up to $1000 annually\n",
      "\n",
      "If you have any more specific questions about your benefits or need further details, feel free to ask!\u001b[0m\n",
      "\n",
      "\u001b[1m> Finished chain.\u001b[0m\n"
     ]
    },
    {
     "data": {
      "text/plain": [
       "'Your benefits include:\\n- Comprehensive health, dental, and vision insurance plan effective after 30 days of employment\\n- 401(k) retirement plan with company matching up to 5% of salary\\n- Gym membership reimbursement up to $500 annually\\n- Childcare assistance up to $1000 annually\\n\\nIf you have any more specific questions about your benefits or need further details, feel free to ask!'"
      ]
     },
     "execution_count": 16,
     "metadata": {},
     "output_type": "execute_result"
    }
   ],
   "source": [
    "chatbot.get_response(\"I want to know what my benefits are\", config_invoke=config_invoke)['output']"
   ]
  },
  {
   "cell_type": "code",
   "execution_count": 17,
   "metadata": {},
   "outputs": [
    {
     "name": "stdout",
     "output_type": "stream",
     "text": [
      "\n",
      "\n",
      "\u001b[1m> Entering new AgentExecutor chain...\u001b[0m\n",
      "\u001b[32;1m\u001b[1;3m\n",
      "Invoking: `retrieve_contract_information` with `{'query': 'benefits'}`\n",
      "\n",
      "\n",
      "\u001b[0m\u001b[33;1m\u001b[1;3mOther Benefits: Gym membership reimbursement up to $500 annually, childcare assistance\n",
      "up to $1000 annually.\n",
      "Page 1\n",
      "\n",
      "Base Salary: $75,000 annually, payable in monthly installments\n",
      "Bonus: Eligible for an annual performance-based bonus of up to 10% of base salary\n",
      "Stock Options: Eligible after one year of service, details to be provided upon eligibility.\n",
      "4. Benefits\n",
      "Health Insurance: Comprehensive health, dental, and vision plan, effective after 30 days of\n",
      "employment.\n",
      "Retirement Plan: 401(k) plan with company matching up to 5% of salary.\n",
      "\n",
      "5. Health and Safety\n",
      "The health and safety of our employees are of paramount importance. All employees are expected to follow safety guidelines and report any hazards or injuries immediately to their supervisor or the HR department.\n",
      "\n",
      "6. Performance Reviews\n",
      "Performance reviews are conducted annually to assess employee progress, set goals, and discuss potential for growth and development within the company.\u001b[0m\u001b[32;1m\u001b[1;3mThe information about your benefits, including health insurance, retirement plan, gym membership reimbursement, and childcare assistance, can be found in your contract under the \"Benefits\" section. If you need more details or have any other questions, feel free to ask!\u001b[0m\n",
      "\n",
      "\u001b[1m> Finished chain.\u001b[0m\n"
     ]
    },
    {
     "data": {
      "text/plain": [
       "{'input': 'Where is this information located?',\n",
       " 'chat_history': [HumanMessage(content='Hello! What can you do for me?'),\n",
       "  AIMessage(content='Hello! I can help you with a variety of tasks. You can ask me questions, seek information, or request assistance on different topics. Feel free to ask anything you need help with!'),\n",
       "  HumanMessage(content='I want to know what my benefits are'),\n",
       "  AIMessage(content='Your benefits include:\\n- Comprehensive health, dental, and vision insurance plan effective after 30 days of employment\\n- 401(k) retirement plan with company matching up to 5% of salary\\n- Gym membership reimbursement up to $500 annually\\n- Childcare assistance up to $1000 annually\\n\\nIf you have any more specific questions about your benefits or need further details, feel free to ask!')],\n",
       " 'output': 'The information about your benefits, including health insurance, retirement plan, gym membership reimbursement, and childcare assistance, can be found in your contract under the \"Benefits\" section. If you need more details or have any other questions, feel free to ask!'}"
      ]
     },
     "execution_count": 17,
     "metadata": {},
     "output_type": "execute_result"
    }
   ],
   "source": [
    "chatbot.get_response(\"Where is this information located?\", config_invoke=config_invoke)"
   ]
  },
  {
   "cell_type": "markdown",
   "metadata": {},
   "source": [
    "We can ask the model for recommendations and it will use the search tool to browse the internte and provide an answer."
   ]
  },
  {
   "cell_type": "code",
   "execution_count": 45,
   "metadata": {},
   "outputs": [
    {
     "name": "stdout",
     "output_type": "stream",
     "text": [
      "\n",
      "\n",
      "\u001b[1m> Entering new AgentExecutor chain...\u001b[0m\n",
      "\u001b[32;1m\u001b[1;3m\n",
      "Invoking: `tavily_search_results_json` with `{'query': 'popular gyms in Amsterdam'}`\n",
      "\n",
      "\n",
      "\u001b[0m\u001b[36;1m\u001b[1;3m[{'url': 'https://bestgymsnearyou.com/amsterdam/', 'content': 'Rocycle City Center at Nieuwe Passeerdersstraat 12 Vélo at Albert Cuypstraat 35 City Alps at Polderweg 190 You can get a great sweat in at those indoor cycling studios plus many of the best Amsterdam gyms have group spinning classes like Clubsportive, Splash Healthclub, and Sportcity. Boxing & MMA Gyms Near You'}, {'url': 'https://www.wander-lust.nl/amazing-gyms-in-amsterdam/', 'content': 'Trainmore - The luxurious one Looking for luxury? Gustav Gym is the place to be. This premium gym offers you the best fitness devices of Technogym. But what we really love is the tranquil vibe and personal attention. The coaches are kind, motivating and make you feel comfortable in the training.'}, {'url': 'https://www.yelp.com/search?cflt=gyms&find_loc=Amsterdam,+Noord-Holland', 'content': 'Top 10 Best Gyms Near Amsterdam, Noord-Holland Sort:Recommended Price 1. Health Club Jordaan 4.5 (11 reviews) Gyms Jordaan \"What an excellent gym and a reasonable price for visitors! The gym was clean, the staff friendly...\" more 2. SportCity 4.5 (2 reviews) Gyms Centrum'}, {'url': 'https://www.justtravelous.com/en/best-gyms-amsterdam/', 'content': 'The two main fitness apps are Classpass and Onefit. I recommend Classpass when comparing Classpass vs. OneFit. Saints and Stars - Best Gyms Amsterdam for Classes Saints and Stars is a beautiful gym with an amazing community. If you are willing to pay a little more for your gym, there is no better choice than Saints and Stars.'}, {'url': 'https://www.tripadvisor.com/Attractions-g188590-Activities-c40-t129-Amsterdam_North_Holland_Province.html', 'content': 'Centrum'}]\u001b[0m\u001b[32;1m\u001b[1;3mSome popular gyms in Amsterdam include:\n",
      "\n",
      "1. Rocycle City Center at Nieuwe Passeerdersstraat 12\n",
      "2. Vélo at Albert Cuypstraat 35\n",
      "3. City Alps at Polderweg 190\n",
      "4. Trainmore - The luxurious one\n",
      "5. Gustav Gym - Known for luxury and premium fitness devices\n",
      "\n",
      "These gyms offer a variety of facilities and classes to help you stay fit and healthy. You can explore these options further to find the one that best suits your preferences. If you need more information or have any other questions, feel free to ask!\u001b[0m\n",
      "\n",
      "\u001b[1m> Finished chain.\u001b[0m\n"
     ]
    },
    {
     "data": {
      "text/plain": [
       "'Some popular gyms in Amsterdam include:\\n\\n1. Rocycle City Center at Nieuwe Passeerdersstraat 12\\n2. Vélo at Albert Cuypstraat 35\\n3. City Alps at Polderweg 190\\n4. Trainmore - The luxurious one\\n5. Gustav Gym - Known for luxury and premium fitness devices\\n\\nThese gyms offer a variety of facilities and classes to help you stay fit and healthy. You can explore these options further to find the one that best suits your preferences. If you need more information or have any other questions, feel free to ask!'"
      ]
     },
     "execution_count": 45,
     "metadata": {},
     "output_type": "execute_result"
    }
   ],
   "source": [
    "chatbot.get_response(\"A gym membership sounds nice! What are some popular gyms in Amsterdam?\", config_invoke=config_invoke)['output']"
   ]
  },
  {
   "cell_type": "code",
   "execution_count": 18,
   "metadata": {},
   "outputs": [
    {
     "name": "stdout",
     "output_type": "stream",
     "text": [
      "\n",
      "\n",
      "\u001b[1m> Entering new AgentExecutor chain...\u001b[0m\n",
      "\u001b[32;1m\u001b[1;3m\n",
      "Invoking: `retrieve_contract_information` with `{'query': 'performance reviews'}`\n",
      "\n",
      "\n",
      "\u001b[0m\u001b[33;1m\u001b[1;3m5. Health and Safety\n",
      "The health and safety of our employees are of paramount importance. All employees are expected to follow safety guidelines and report any hazards or injuries immediately to their supervisor or the HR department.\n",
      "\n",
      "6. Performance Reviews\n",
      "Performance reviews are conducted annually to assess employee progress, set goals, and discuss potential for growth and development within the company.\n",
      "\n",
      "8. Disciplinary Actions\n",
      "Violations of company policies may result in disciplinary action, which can include written warnings, suspension, or termination of employment, depending on the severity of the infraction.\n",
      "\n",
      "9. Amendments to the Policy\n",
      "Tech Innovations Inc. reserves the right to amend these policies at any time. Employees will be notified of any changes through official communications.\n",
      "\n",
      "Base Salary: $75,000 annually, payable in monthly installments\n",
      "Bonus: Eligible for an annual performance-based bonus of up to 10% of base salary\n",
      "Stock Options: Eligible after one year of service, details to be provided upon eligibility.\n",
      "4. Benefits\n",
      "Health Insurance: Comprehensive health, dental, and vision plan, effective after 30 days of\n",
      "employment.\n",
      "Retirement Plan: 401(k) plan with company matching up to 5% of salary.\u001b[0m\u001b[32;1m\u001b[1;3mPerformance reviews at your company are conducted annually to assess employee progress, set goals, and discuss potential for growth and development within the company. If you have any specific questions about the performance review process or need more details, feel free to ask!\u001b[0m\n",
      "\n",
      "\u001b[1m> Finished chain.\u001b[0m\n"
     ]
    },
    {
     "data": {
      "text/plain": [
       "'Performance reviews at your company are conducted annually to assess employee progress, set goals, and discuss potential for growth and development within the company. If you have any specific questions about the performance review process or need more details, feel free to ask!'"
      ]
     },
     "execution_count": 18,
     "metadata": {},
     "output_type": "execute_result"
    }
   ],
   "source": [
    "chatbot.get_response(\"How are performance reviews conducted?\", config_invoke=config_invoke)['output']"
   ]
  }
 ],
 "metadata": {
  "kernelspec": {
   "display_name": ".env310",
   "language": "python",
   "name": "python3"
  },
  "language_info": {
   "codemirror_mode": {
    "name": "ipython",
    "version": 3
   },
   "file_extension": ".py",
   "mimetype": "text/x-python",
   "name": "python",
   "nbconvert_exporter": "python",
   "pygments_lexer": "ipython3",
   "version": "3.10.0"
  }
 },
 "nbformat": 4,
 "nbformat_minor": 2
}
